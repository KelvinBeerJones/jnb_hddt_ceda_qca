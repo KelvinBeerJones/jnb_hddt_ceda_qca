{
 "cells": [
  {
   "cell_type": "markdown",
   "metadata": {},
   "source": [
    "# HDDT Visualisations - QCA DNA Graph #"
   ]
  },
  {
   "cell_type": "markdown",
   "metadata": {},
   "source": [
    "## The Quaker Committee on the Aborigines ##\n",
    "\n",
    "The database contains the names of 1171 members of the APS from its foundation in 1838 to 1871 when it merged with Anti-Slavery International. 571 members (49%) are Quaker. "
   ]
  },
  {
   "cell_type": "code",
   "execution_count": 12,
   "metadata": {},
   "outputs": [],
   "source": [
    "import csv\n",
    "from operator import itemgetter\n",
    "import networkx as nx\n",
    "from networkx.algorithms import community #This part of networkx, for community detection, needs to be imported separately."
   ]
  },
  {
   "cell_type": "code",
   "execution_count": 13,
   "metadata": {},
   "outputs": [],
   "source": [
    "with open('vw_4_ceda_qca_quakers_202108162129.csv', 'r') as nodecsv: # Open the file\n",
    "    nodereader = csv.reader(nodecsv) # Read the csv\n",
    "    nodes = [n for n in nodereader][1:]  # Retrieve the data (using Python list comprhension and list slicing to remove the header row.\n",
    "    \n",
    "node_names = [n[0] for n in nodes] # Get a list of only the node names    \n",
    "\n",
    "with open('vw_2_ceda_membership_xid_qca_202108162144.csv', 'r') as edgecsv: # Open the file\n",
    "    edgereader = csv.reader(edgecsv) # Read the csv\n",
    "    edges = [tuple(e) for e in edgereader][1:]  # Retrieve the data"
   ]
  },
  {
   "cell_type": "code",
   "execution_count": 14,
   "metadata": {},
   "outputs": [
    {
     "data": {
      "text/plain": [
       "[['Thomas (1) Hodgkin', '1798', '1866', '1839', '1847', '1'],\n",
       " ['William Allen', 'NA', 'NA', '1837', '1842', 'NA'],\n",
       " ['James Bowden', 'NA', 'NA', '1842', '1847', '1'],\n",
       " ['William Nash', 'NA', 'NA', '1842', '1847', '1'],\n",
       " ['Joseph Sturge', 'NA', 'NA', '1842', '1847', '1'],\n",
       " ['William Jun Grimshaw', 'NA', 'NA', '1840', '1847', '1'],\n",
       " ['Henry Knight', 'NA', 'NA', '1840', '1847', '1'],\n",
       " ['Edward Paull', 'NA', 'NA', '1840', '1847', '1'],\n",
       " ['Robert Jun Alsop', 'NA', 'NA', '1837', '1847', '1'],\n",
       " ['Abram Rawlinson Barclay', 'NA', 'NA', '1837', '1839', '1'],\n",
       " ['John Barclay', 'NA', 'NA', '1837', '1839', '1'],\n",
       " ['Richard Barrett', 'NA', 'NA', '1837', '1839', '1'],\n",
       " ['John Thomas Barry', 'NA', 'NA', '1837', '1847', '1'],\n",
       " ['Peter Bedford', 'NA', 'NA', '1837', '1847', '1'],\n",
       " ['John Bell', 'NA', 'NA', '1837', '1839', '1'],\n",
       " ['Thomas Christy', 'NA', 'NA', '1837', '1839', '1'],\n",
       " ['Samuel Darton', 'NA', 'NA', '1837', '1839', '1'],\n",
       " ['Josiah Forster', 'NA', 'NA', '1837', '1847', '1'],\n",
       " ['Robert Forster', 'NA', 'NA', '1837', '1847', '1'],\n",
       " ['William Forster', 'NA', 'NA', '1837', '1847', '1'],\n",
       " ['Joseph Talwin Foster', 'NA', 'NA', '1837', '1847', '1'],\n",
       " ['John Hamilton', 'NA', 'NA', '1837', '1839', '1'],\n",
       " ['Edwd Harris', 'NA', 'NA', '1837', '1847', '1'],\n",
       " ['Geo Holmes', 'NA', 'NA', '1837', '1839', '1'],\n",
       " ['Robert Howard', 'NA', 'NA', '1837', '1839', '1'],\n",
       " ['John Kitching', 'NA', 'NA', '1837', '1839', '1'],\n",
       " ['Joseph Neatby', 'NA', 'NA', '1837', '1847', '1'],\n",
       " ['John Sanderson', 'NA', 'NA', '1837', '1847', '1'],\n",
       " ['Joseph Shewell', 'NA', 'NA', '1837', '1839', '1'],\n",
       " ['George Stacey', 'NA', 'NA', '1837', '1847', '1'],\n",
       " [' Joseph Storrs', 'NA', 'NA', '1837', '1847', '1']]"
      ]
     },
     "execution_count": 14,
     "metadata": {},
     "output_type": "execute_result"
    }
   ],
   "source": [
    "nodes"
   ]
  },
  {
   "cell_type": "code",
   "execution_count": 15,
   "metadata": {},
   "outputs": [
    {
     "data": {
      "text/plain": [
       "[('Thomas (1) Hodgkin', 'QCA'),\n",
       " ('William Allen', 'QCA'),\n",
       " ('James Bowden', 'QCA'),\n",
       " ('William Nash', 'QCA'),\n",
       " ('Joseph Sturge', 'QCA'),\n",
       " ('William Jun Grimshaw', 'QCA'),\n",
       " ('Henry Knight', 'QCA'),\n",
       " ('Edward Paull', 'QCA'),\n",
       " ('Robert Jun Alsop', 'QCA'),\n",
       " ('Abram Rawlinson Barclay', 'QCA'),\n",
       " ('John Barclay', 'QCA'),\n",
       " ('Richard Barrett', 'QCA'),\n",
       " ('John Thomas Barry', 'QCA'),\n",
       " ('Peter Bedford', 'QCA'),\n",
       " ('John Bell', 'QCA'),\n",
       " ('Thomas Christy', 'QCA'),\n",
       " ('Samuel Darton', 'QCA'),\n",
       " ('Josiah Forster', 'QCA'),\n",
       " ('Robert Forster', 'QCA'),\n",
       " ('William Forster', 'QCA'),\n",
       " ('Joseph Talwin Foster', 'QCA'),\n",
       " ('John Hamilton', 'QCA'),\n",
       " ('Edwd Harris', 'QCA'),\n",
       " ('Geo Holmes', 'QCA'),\n",
       " ('Robert Howard', 'QCA'),\n",
       " ('John Kitching', 'QCA'),\n",
       " ('Joseph Neatby', 'QCA'),\n",
       " ('John Sanderson', 'QCA'),\n",
       " ('Joseph Shewell', 'QCA'),\n",
       " ('George Stacey', 'QCA'),\n",
       " (' Joseph Storrs', 'QCA')]"
      ]
     },
     "execution_count": 15,
     "metadata": {},
     "output_type": "execute_result"
    }
   ],
   "source": [
    "edges"
   ]
  },
  {
   "cell_type": "code",
   "execution_count": 16,
   "metadata": {},
   "outputs": [
    {
     "name": "stdout",
     "output_type": "stream",
     "text": [
      "31\n",
      "31\n"
     ]
    }
   ],
   "source": [
    "print(len(node_names))\n",
    "print(len(edges))"
   ]
  },
  {
   "cell_type": "code",
   "execution_count": 17,
   "metadata": {},
   "outputs": [
    {
     "name": "stdout",
     "output_type": "stream",
     "text": [
      "First 5 nodes: ['Thomas (1) Hodgkin', 'William Allen', 'James Bowden', 'William Nash', 'Joseph Sturge']\n",
      "First 5 edges: [('Thomas (1) Hodgkin', 'QCA'), ('William Allen', 'QCA'), ('James Bowden', 'QCA'), ('William Nash', 'QCA'), ('Joseph Sturge', 'QCA')]\n"
     ]
    }
   ],
   "source": [
    "print(\"First 5 nodes:\", node_names[0:5])\n",
    "print(\"First 5 edges:\", edges[0:5])"
   ]
  },
  {
   "cell_type": "code",
   "execution_count": 18,
   "metadata": {},
   "outputs": [
    {
     "name": "stdout",
     "output_type": "stream",
     "text": [
      "Name: \n",
      "Type: Graph\n",
      "Number of nodes: 32\n",
      "Number of edges: 31\n",
      "Average degree:   1.9375\n"
     ]
    }
   ],
   "source": [
    "G = nx.Graph()\n",
    "G.add_nodes_from(node_names)\n",
    "G.add_edges_from(edges)\n",
    "print(nx.info(G))"
   ]
  },
  {
   "cell_type": "code",
   "execution_count": 19,
   "metadata": {},
   "outputs": [],
   "source": [
    "# Nodes\n",
    "\n",
    "birth_year_dict = {}\n",
    "death_year_dict = {}\n",
    "first_year_dict = {}\n",
    "last_year_dict = {}\n",
    "religion_id_dict = {}\n"
   ]
  },
  {
   "cell_type": "code",
   "execution_count": 20,
   "metadata": {},
   "outputs": [],
   "source": [
    "for node in nodes: # Loop through the list, one row at a time\n",
    "    \n",
    "    birth_year_dict [node[0]] = node[1]\n",
    "    death_year_dict [node[0]] = node[2]\n",
    "    first_year_dict[node[0]] = node[3]\n",
    "    last_year_dict[node[0]] = node[4]\n",
    "    religion_id_dict[node[0]] = node[5]"
   ]
  },
  {
   "cell_type": "code",
   "execution_count": 21,
   "metadata": {},
   "outputs": [],
   "source": [
    "# Nodes\n",
    "nx.set_node_attributes(G, birth_year_dict, 'birth_year')\n",
    "nx.set_node_attributes(G, death_year_dict, 'death_year')\n",
    "nx.set_node_attributes(G, first_year_dict, 'first_year')\n",
    "nx.set_node_attributes(G, last_year_dict, 'last_year')\n",
    "nx.set_node_attributes(G, religion_id_dict, 'religion_id')"
   ]
  },
  {
   "cell_type": "code",
   "execution_count": 23,
   "metadata": {},
   "outputs": [
    {
     "name": "stdout",
     "output_type": "stream",
     "text": [
      "Thomas (1) Hodgkin 1\n",
      "William Allen NA\n",
      "James Bowden 1\n",
      "William Nash 1\n",
      "Joseph Sturge 1\n",
      "William Jun Grimshaw 1\n",
      "Henry Knight 1\n",
      "Edward Paull 1\n",
      "Robert Jun Alsop 1\n",
      "Abram Rawlinson Barclay 1\n",
      "John Barclay 1\n",
      "Richard Barrett 1\n",
      "John Thomas Barry 1\n",
      "Peter Bedford 1\n",
      "John Bell 1\n",
      "Thomas Christy 1\n",
      "Samuel Darton 1\n",
      "Josiah Forster 1\n",
      "Robert Forster 1\n",
      "William Forster 1\n",
      "Joseph Talwin Foster 1\n",
      "John Hamilton 1\n",
      "Edwd Harris 1\n",
      "Geo Holmes 1\n",
      "Robert Howard 1\n",
      "John Kitching 1\n",
      "Joseph Neatby 1\n",
      "John Sanderson 1\n",
      "Joseph Shewell 1\n",
      "George Stacey 1\n",
      " Joseph Storrs 1\n"
     ]
    },
    {
     "ename": "KeyError",
     "evalue": "'religion_id'",
     "output_type": "error",
     "traceback": [
      "\u001b[1;31m---------------------------------------------------------------------------\u001b[0m",
      "\u001b[1;31mKeyError\u001b[0m                                  Traceback (most recent call last)",
      "\u001b[1;32m<ipython-input-23-786e021400c1>\u001b[0m in \u001b[0;36m<module>\u001b[1;34m\u001b[0m\n\u001b[0;32m      1\u001b[0m \u001b[1;32mfor\u001b[0m \u001b[0mn\u001b[0m \u001b[1;32min\u001b[0m \u001b[0mG\u001b[0m\u001b[1;33m.\u001b[0m\u001b[0mnodes\u001b[0m\u001b[1;33m(\u001b[0m\u001b[1;33m)\u001b[0m\u001b[1;33m:\u001b[0m \u001b[1;31m# Loop through every node, in our data \"n\" will be the name of the person\u001b[0m\u001b[1;33m\u001b[0m\u001b[1;33m\u001b[0m\u001b[0m\n\u001b[1;32m----> 2\u001b[1;33m     \u001b[0mprint\u001b[0m\u001b[1;33m(\u001b[0m\u001b[0mn\u001b[0m\u001b[1;33m,\u001b[0m \u001b[0mG\u001b[0m\u001b[1;33m.\u001b[0m\u001b[0mnodes\u001b[0m\u001b[1;33m[\u001b[0m\u001b[0mn\u001b[0m\u001b[1;33m]\u001b[0m\u001b[1;33m[\u001b[0m\u001b[1;34m'religion_id'\u001b[0m\u001b[1;33m]\u001b[0m\u001b[1;33m)\u001b[0m \u001b[1;31m# Access every node by its name, and then by the attribute \"birth_year\"\u001b[0m\u001b[1;33m\u001b[0m\u001b[1;33m\u001b[0m\u001b[0m\n\u001b[0m",
      "\u001b[1;31mKeyError\u001b[0m: 'religion_id'"
     ]
    }
   ],
   "source": [
    "for n in G.nodes(): # Loop through every node, in our data \"n\" will be the name of the person\n",
    "    print(n, G.nodes[n]['religion_id']) # Access every node by its name, and then by the attribute \"birth_year\""
   ]
  },
  {
   "cell_type": "code",
   "execution_count": null,
   "metadata": {},
   "outputs": [],
   "source": [
    "nx.write_gexf(G, 'jnb_hddt_ceda_qca.gexf')"
   ]
  },
  {
   "cell_type": "code",
   "execution_count": null,
   "metadata": {},
   "outputs": [],
   "source": []
  }
 ],
 "metadata": {
  "kernelspec": {
   "display_name": "Python 3",
   "language": "python",
   "name": "python3"
  },
  "language_info": {
   "codemirror_mode": {
    "name": "ipython",
    "version": 3
   },
   "file_extension": ".py",
   "mimetype": "text/x-python",
   "name": "python",
   "nbconvert_exporter": "python",
   "pygments_lexer": "ipython3",
   "version": "3.8.5"
  }
 },
 "nbformat": 4,
 "nbformat_minor": 4
}
